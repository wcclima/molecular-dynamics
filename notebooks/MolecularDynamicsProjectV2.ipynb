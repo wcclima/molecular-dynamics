{
 "cells": [
  {
   "cell_type": "markdown",
   "id": "da9df866-7ce7-4563-96bf-806baab8969b",
   "metadata": {},
   "source": [
    "# **Molecular Dynamics**"
   ]
  },
  {
   "cell_type": "code",
   "execution_count": 1,
   "id": "79288f87-b646-4d34-8be2-f222d1dbc3db",
   "metadata": {
    "tags": []
   },
   "outputs": [],
   "source": [
    "# Python libraries and functions used in this project\n",
    "\n",
    "import math\n",
    "import random as rdm\n",
    "import numpy as np\n",
    "from numpy import random\n",
    "%matplotlib inline\n",
    "\n",
    "import matplotlib.pyplot as plt\n",
    "import seaborn as sns\n",
    "\n",
    "from matplotlib import animation\n",
    "from matplotlib.animation import FuncAnimation\n",
    "from matplotlib.animation import FFMpegWriter\n",
    "from IPython.display import HTML"
   ]
  },
  {
   "cell_type": "markdown",
   "id": "1148427f-97e4-4285-80d4-5cb1d421976a",
   "metadata": {},
   "source": [
    "## 1 - The model"
   ]
  },
  {
   "cell_type": "markdown",
   "id": "b09e2200-7530-4904-948e-053b9e25c7aa",
   "metadata": {
    "tags": []
   },
   "source": [
    "### 1.1 - Interaction potential"
   ]
  },
  {
   "cell_type": "markdown",
   "id": "5e4442f4-99ed-4ea5-9b21-3d143900ce2a",
   "metadata": {},
   "source": [
    "Here we will consider a set of $N$ *classical* particles of mass $m$ that interact pair-wise via the Lennard-Jones potential and moving according Newton's laws in two dimensions. The Lennard-Jones potential is given by \n",
    "\n",
    "$$\n",
    "V(r_{ij}) = 4\\epsilon\\left[\\left(\\frac{\\sigma}{r_{ij}}\\right)^{12} - \\left(\\frac{\\sigma}{r_{ij}}\\right)^6\\right],\n",
    "$$\n",
    "\n",
    "where $r_{ij} = r_{ji}$ is the Euclidean distance between the particles $i$ and $j$, $\\epsilon$ is the strength of the potential and $\\sigma$ is a length scale. "
   ]
  },
  {
   "cell_type": "code",
   "execution_count": 2,
   "id": "fe726d3c-4264-4bf7-aebd-c847e8de208d",
   "metadata": {
    "tags": []
   },
   "outputs": [
    {
     "data": {
      "image/png": "[encoded data removed]",
      "text/plain": [
       "<Figure size 640x480 with 1 Axes>"
      ]
     },
     "metadata": {},
     "output_type": "display_data"
    }
   ],
   "source": [
    "def v(x): \n",
    "    \"\"\"Function that returns the Lennard-Jones potential\"\"\"\n",
    "    return 4./(x**12) - 4./(x**6)\n",
    "\n",
    "x = np.linspace(0.9, 3, 100)\n",
    "\n",
    "plt.plot(x, v(x))\n",
    "plt.plot(x, 0*x, color = 'black', linestyle = 'dotted', linewidth = 1)\n",
    "plt.title(\"Lennard-Jones potential\")\n",
    "plt.xlabel('$r/\\\\sigma$')\n",
    "plt.ylabel('$V(r)/\\\\epsilon$')\n",
    "\n",
    "plt.show()"
   ]
  },
  {
   "cell_type": "markdown",
   "id": "a1682749-978a-4ac8-97c0-4b5a6d71e510",
   "metadata": {},
   "source": [
    "We see from the shape of the Lennard-Jones potential above that for long distances, i.e. for $r \\gtrsim \\sigma$, the potential is attractive, while for $r \\lesssim \\sigma$ the potential is strongly repulsive. The potential also has a minimum at $r_0 = 2^\\frac{1}{6}\\sigma$, where $V(r_0) = -\\epsilon$.\n",
    "\n",
    "This potential is a good model for innert gases, like ideal gases, that cannot for chemical bonds, i.e. cannot exchange electrons. The $\\left(\\frac{\\sigma}{r}\\right)^6$ tail models dipole interactions that are produce by the interaction of the molecules electronic clouds via the electorstatic force, that distorts the clouds, attractive producing electric dipole forces. The $\\left(\\frac{\\sigma}{r}\\right)^{12}$-term models the strong repulsion that appears out of the superpposition of the molecules electronic clouds, and it is produced by Pauli's exclusion principle. This principle express the empirical fact that two electrons cannot occupy the same state.  "
   ]
  },
  {
   "cell_type": "markdown",
   "id": "139f83ac-39a7-4584-ae20-01a96b96feab",
   "metadata": {},
   "source": [
    "### 1.2 Boundary conditions"
   ]
  },
  {
   "cell_type": "markdown",
   "id": "98208629-a496-42b5-b98e-6ef0a4577ecd",
   "metadata": {},
   "source": [
    "For simplicit, we will consider periodic boundary conditions. This means that in a lattice of size $L$, if the particle moves to a position $x = L + a$, the particle is the moved to the position $x' = x - L = a$, assuming here $a < L$. Hence, if the particles leaves the lattice on the right, it reappers on the left. And vice-versa. If the particle moves to the position $x = a < 0$, then it is moved to the position $x' = a + L < L$.\n",
    "\n",
    "This choice of boundary conditions have some advantages. In a real gas we typically have $N \\sim 10^{23}$ particles, which would be very costly to simmulate in a computer. For small set of particles, say $N \\sim 100$, assuming the the boundary of the lattice are hard walls as in a vessel might produce undesirable boundary effects that one would not find in real-life situations. The periodic boundary condition then allows us to simulate the situation in which we are observing a sample of the bulk of the gas, away from the vessel walls at a constant density "
   ]
  },
  {
   "cell_type": "markdown",
   "id": "53547089-8e8e-4a8c-bc1b-c0425ad1d58d",
   "metadata": {},
   "source": [
    "## 2 - Method"
   ]
  },
  {
   "cell_type": "markdown",
   "id": "b20d9485-7116-4128-b925-9330daaff2cf",
   "metadata": {
    "tags": []
   },
   "source": [
    "### 2.1 - Numerical method"
   ]
  },
  {
   "cell_type": "markdown",
   "id": "54740bd4-9ce5-4466-90ed-10d329b54d87",
   "metadata": {},
   "source": [
    "To numerically compute the position of the gas molecules, we will use the so-called **Verlet method**, see e.g. *Computational Physics* by N. Giordano. This method is suitable when the interaction potential does not depend on the velocity. Moreover it is a method easy to implement and has good numerical precision.\n",
    "\n",
    "Let us consider a function $y(t)$ satisfy the equation of motion $\\frac{d^2y(t)}{dt^2} = f[y(t)]$ and its Taylor expansion going forward and backward in time around the instant $t_i$ with a time step $\\Delta t$,\n",
    "\n",
    "$$\n",
    "y(t_i + \\Delta t) = y(t_i) + \\Delta t\\frac{dy(t_i)}{dt} + \\frac{1}{2}\\Delta t^2\\frac{d^2y(t_i)}{dt^2} + \\frac{1}{6}\\Delta t^3\\frac{d^3y(t_i)}{dt^3} + O(\\Delta t^4)\n",
    "$$\n",
    "and\n",
    "$$\n",
    "y(t_i - \\Delta t) = y(t_i) - \\Delta t\\frac{dy(t_i)}{dt} + \\frac{1}{2}\\Delta t^2\\frac{d^2y(t_i)}{dt^2} - \\frac{1}{6}\\Delta t^3\\frac{d^3y(t_i)}{dt^3} + O(\\Delta t^4).\n",
    "$$\n",
    "\n",
    "Denoting $y_i \\equiv y(t_i)$, $y_{i-1} \\equiv y(t_i - \\Delta t)$, $y_{i+1} \\equiv y(t_i + \\Delta t)$ and $f(y) = $, we have that\n",
    "\n",
    "$$\n",
    "y_{i + 1} = 2 y_i - y_{i - 1} + \\Delta t^2f(y_i) + O(\\Delta t^4),\n",
    "$$\n",
    "\n",
    "hence the error is of order $O(\\Delta t^4)$. The Verlet method is thus approximates $\\frac{d^2y}{dt^2}$ symmetrically using differences centered at the instant $t_i$ with high accurace. We can also obtain the velocity $v_i = \\frac{dy_i}{dt}$ from the Verlet method by taking\n",
    "\n",
    "$$\n",
    "y_{i+1} - y_{i-1} = 2\\Delta t v_i + O(\\Delta t^3)\\;\\;\\;\\; \\rightarrow \\;\\;\\;\\; v_i = \\frac{y_{i+1} - y_{i-1}}{2\\Delta t} + O(\\Delta t^3).\n",
    "$$"
   ]
  },
  {
   "cell_type": "markdown",
   "id": "138f6208-09ba-4402-a432-ec1408cc2676",
   "metadata": {
    "tags": []
   },
   "source": [
    "### 2.2 Computation of the force"
   ]
  },
  {
   "cell_type": "markdown",
   "id": "defbb194-c06a-4b13-a313-e3e628ca6188",
   "metadata": {},
   "source": [
    "The expression for the interaction force between two particles is\n",
    "\n",
    "$$\n",
    "\\vec{F}(\\vec{x} - \\vec{x}') = \\frac{24 \\epsilon}{\\sigma}\\left[2\\left(\\frac{\\sigma}{r}\\right)^{13} - \\left(\\frac{\\sigma}{r}\\right)^7\\right]\n",
    "\\frac{\\vec{x} - \\vec{x}'}{\\vec{x} - \\vec{x}'} \n",
    "$$\n",
    "\n",
    "with $r = \\| \\vec{x} - \\vec{x}'\\|$. \n",
    "\n",
    "To simplify the numerical computation we will only consider the interaction between particles that are apart by up to a distance of $3\\sigma$. This introduces an error in the computation of force of the order $1/3^7 \\sim 10^{-4}$. Hence, if we choose $\\Delta t \\sim 10^{-3}$, the error in the equation for the position is still consistent with the error in the equation for the velocity.\n",
    "\n",
    "We also need to take into account the periodic boundary condition when computing the force so the reappearnce of a particle on the other side of the lattice is consistent with the dynamics. This is accomplished by computing the shortest distance between two particles and using it to compute the force between them. Hence, suppose two particles $i$ and $j$ at positions $x_i$ and $x_j$. If their coordinate distance is less than $L/2$, then we simply use $x_i - x_j$, otherwise we have to use the complement of the coordinate distance given by $x_i - x_j - \\textrm{sgn}(x_i - x_j)L/2$. "
   ]
  },
  {
   "cell_type": "markdown",
   "id": "58b84b6d-3329-4ea1-95e8-1c31ea2d6eab",
   "metadata": {
    "tags": []
   },
   "source": [
    "## 3 - Initial conditions"
   ]
  },
  {
   "cell_type": "code",
   "execution_count": 3,
   "id": "57c51964-a7b4-4071-a5d7-2651ca6622b4",
   "metadata": {
    "tags": []
   },
   "outputs": [],
   "source": [
    "def impose_boundary_condition(x_coord_n, y_coord_n, x_coord_n1, y_coord_n1):\n",
    "    \"\"\"\n",
    "    Updates the xy coordinates of the particles by imposing \n",
    "    periodic boundary conditions. \n",
    "    \n",
    "    Returns the updated x and y coordinates arrays.\n",
    "    \n",
    "    Keyword arguments:\n",
    "    \n",
    "    x_coord_n -- x coordinate at time step n, array\n",
    "    y_coord_n -- y coordinate at time step n, array\n",
    "    x_coord_n1 -- x coordinate at time step n+1, array\n",
    "    y_coord_n1 -- y coordinate at time step n+1, array\n",
    "    \"\"\"\n",
    "    \n",
    "    for i, (ixn, iyn, ixn1, iyn1) in enumerate(zip(x_coord_n, y_coord_n, x_coord_n1, y_coord_n1)):\n",
    "        \n",
    "        if ixn1 <= 0.:\n",
    "            ixn1 = ixn1 + L\n",
    "            ixn = ixn + L\n",
    "            \n",
    "            x_coord_n1[i] = ixn1\n",
    "            x_coord_n[i] = ixn\n",
    "            \n",
    "        if ixn1 >= L:\n",
    "            ixn1 = ixn1 - L\n",
    "            ixn = ixn - L\n",
    "    \n",
    "            x_coord_n1[i] = ixn1\n",
    "            x_coord_n[i] = ixn\n",
    "        \n",
    "        if iyn1 <= 0.:\n",
    "            iyn1 = iyn1 + L\n",
    "            iyn = iyn + L\n",
    "            \n",
    "            y_coord_n1[i] = iyn1\n",
    "            y_coord_n[i] = iyn\n",
    "            \n",
    "        if iyn1 >= L:\n",
    "            iyn1 = iyn1 - L\n",
    "            iyn = iyn - L\n",
    "        \n",
    "            y_coord_n1[i] = iyn1\n",
    "            y_coord_n[i] = iyn\n",
    "            \n",
    "    return x_coord_n, y_coord_n, x_coord_n1, y_coord_n1\n",
    "    \n",
    "\n",
    "\n",
    "\n",
    "def generate_initial_conditions(grid_side = 20., gas_density = 0.25, initial_vel = 1.):\n",
    "    \"\"\"\n",
    "    Generates a random initial condition for the position and velocity \n",
    "    of the particles.\n",
    "    \n",
    "    Returns the initial xy particles position and their xy velocity component.\n",
    "    \n",
    "    Keyword arguments:\n",
    "    \n",
    "    grid_side   -- side of lattice, float (default 20.) \n",
    "    Nparticles  -- particle number, integer (default 100)\n",
    "    initial_vel -- modulus of the initial velocity, float (default 1.)\n",
    "    \"\"\"\n",
    "\n",
    "    a = 1./(math.sqrt(gas_density)) # Size of the lattice cell\n",
    "    \n",
    "    x_0, y_0 = np.mgrid[a/2:grid_side + a/2:a, a/2:grid_side + a/2:a]\n",
    "    \n",
    "    Nparticles = len(x_0.flatten())\n",
    "    \n",
    "    x_0 = x_0.flatten() + a/2*(random.rand(Nparticles,) - 1/2)\n",
    "    y_0 = y_0.flatten() + a/2*(random.rand(Nparticles,) - 1/2)\n",
    "    \n",
    "    \n",
    "    x_m1, y_m1, x_0, y_0 = impose_boundary_condition(np.zeros(Nparticles,),np.zeros(Nparticles,), x_0, y_0)\n",
    "    \n",
    "    del x_m1, y_m1\n",
    "    \n",
    "    rand_theta = 2*math.pi*random.rand(Nparticles,)\n",
    "    vx_0 = initial_vel*np.sin(rand_theta)\n",
    "    vy_0 = initial_vel*np.cos(rand_theta)\n",
    "    \n",
    "    # We compute the position of the particles at the next time step\n",
    "    x_1 = x_0 + vx_0*dt\n",
    "    y_1 = y_0 + vy_0*dt\n",
    "\n",
    "    # We impose the periodic boundary conditions in both the x and y directions\n",
    "    x_0, y_0, x_1, y_1 = impose_boundary_condition(x_0, y_0, x_1, y_1)\n",
    "            \n",
    "    return Nparticles, x_0, y_0, vx_0, vy_0, x_1, y_1"
   ]
  },
  {
   "cell_type": "code",
   "execution_count": 4,
   "id": "21fbea88-ac8a-41f3-a772-0315a53b4e46",
   "metadata": {
    "tags": []
   },
   "outputs": [
    {
     "name": "stdout",
     "output_type": "stream",
     "text": [
      "Number of particles in the system: 100\n"
     ]
    },
    {
     "data": {
      "image/png": "[encoded data removed]",
      "text/plain": [
       "<Figure size 640x480 with 1 Axes>"
      ]
     },
     "metadata": {},
     "output_type": "display_data"
    }
   ],
   "source": [
    "L = 20 # Side of bi-dimensional volume\n",
    "rho = 0.25 #Number of particles\n",
    "v_0 = 1.0 # Modulus of the initial velocity\n",
    "dt = 0.008 #Time step\n",
    "N_time_steps = 3500 #Number of time steps\n",
    "\n",
    "N, x_0, y_0, vx_0, vy_0, x_1, y_1 = generate_initial_conditions(L, rho, v_0)\n",
    "\n",
    "plt.axis([0, L, 0, L])\n",
    "\n",
    "print('Number of particles in the system:', N)\n",
    "\n",
    "plt.scatter(x_0,y_0)\n",
    "for i in range(0, N):\n",
    "        plt.arrow(x_0[i],y_0[i],vx_0[i]/2,vy_0[i]/2,length_includes_head=True,head_width=0.1,color='black') #We halve the velocity so it looks nicer in the picture\n",
    "\n",
    "plt.title('Initial position and velocity of the molecules in the gas')\n",
    "plt.xlabel(\"$x$\")\n",
    "plt.ylabel(\"$y$\")\n",
    "\n",
    "plt.show()"
   ]
  },
  {
   "cell_type": "markdown",
   "id": "bd744003-b7b5-45c2-9a34-9dbe96f88487",
   "metadata": {},
   "source": [
    "## 4 - Dynamics"
   ]
  },
  {
   "cell_type": "code",
   "execution_count": 5,
   "id": "7d967a79-b2f8-488c-a1d0-0f966b56e5df",
   "metadata": {},
   "outputs": [],
   "source": [
    "def copy_sgn_funct(x, y):\n",
    "    \"\"\"\n",
    "    Returns the absolute value of x times the \n",
    "    sign of y.\n",
    "    \n",
    "    Keyword arguments:\n",
    "    \n",
    "    x  -- float or int \n",
    "    y  -- float or int\n",
    "    \"\"\"\n",
    "    if y > 0.:\n",
    "        return abs(x)\n",
    "    else:\n",
    "        return -abs(x)\n",
    "\n",
    "\n",
    "def shortest_distance_squared(x_coord_distance, y_coord_distance):\n",
    "    \"\"\"\n",
    "    Computes the shortest Euclidean distance between\n",
    "    two particles using periodic boundary conditions.\n",
    "\n",
    "    Returns the square of the Euclidean distance.\n",
    "    \n",
    "    Keyword arguments:\n",
    "    \n",
    "    x_coord_distance  -- coordinate distance in the x direction \n",
    "    y_coord_distance  -- coordinate distance in the y direction\n",
    "    \"\"\"\n",
    "    \n",
    "    if (abs(x_coord_distance) > 0.50*L):\n",
    "        x_coord_distance = x_coord_distance - copy_sgn_funct(L, x_coord_distance)\n",
    "    \n",
    "    if (abs(y_coord_distance) > 0.50*L):\n",
    "        y_coord_distance = y_coord_distance - copy_sgn_funct(L, y_coord_distance)\n",
    "        \n",
    "    distance_squared = x_coord_distance*x_coord_distance + y_coord_distance*y_coord_distance\n",
    "    \n",
    "    return distance_squared\n",
    "\n",
    "\n",
    "\n",
    "def compute_force(x_coord, y_coord):\n",
    "    \"\"\"\n",
    "    Computes the forces between any pair particles using the Lennard-Jonnes potential\n",
    "    and the shortest distance as defined by periodic boundary conditions in \n",
    "    the function 'shorted_distance'.\n",
    "    \n",
    "    Returns the x and y components of the force between the particles.\n",
    "    \n",
    "    Keyword arguments:\n",
    "    \n",
    "    x_coord  -- x coordinate \n",
    "    y_coord  -- y coordinate\n",
    "    \"\"\"\n",
    "    \n",
    "    N = len(x_coord)\n",
    "    \n",
    "    force_x = np.zeros(N,)\n",
    "    force_y = np.zeros(N,)\n",
    "\n",
    "    for i in range(0, N):\n",
    "        for j in range(i + 1, N):\n",
    "            dx = x_coord[i] - x_coord[j]\n",
    "            dy = y_coord[i] - y_coord[j]\n",
    "                \n",
    "            r_squared = shortest_distance_squared(dx,dy)\n",
    "                \n",
    "            if (r_squared < 9.0):\n",
    "                if (r_squared < 0.0001): #avoids 0 denominator\n",
    "                    r_squared = 0.0001\n",
    "\n",
    "                r_squared_inverse = 1./r_squared\n",
    "                \n",
    "                f = 24.0*(2.0*r_squared_inverse**7 - r_squared_inverse**4)\n",
    "            else:\n",
    "                f = 0.0\n",
    "                                  \n",
    "            force_x[i] += f*dx\n",
    "            force_x[j] += -f*dx\n",
    "                \n",
    "            force_y[i] += f*dy\n",
    "            force_y[j] += -f*dy\n",
    "            \n",
    "    return force_x, force_y\n",
    "\n",
    "\n",
    "def time_evolution():\n",
    "    \"\"\"Document this function\"\"\"\n",
    "    \n",
    "    x_n2 = 2.0*x_n1 - x_n + force_x_n1*dt*dt\n",
    "    y_n2 = 2.0*y_n1 - y_n + force_y_n1*dt*dt\n",
    "    \n",
    "    vx_n = (x_n2 - x_n)/(2.0*dt)\n",
    "    vy_n = (y_n2 - y_n)/(2.0*dt)\n",
    "    \n",
    "    return x_n2, y_n2, vx_n, vy_n\n"
   ]
  },
  {
   "cell_type": "code",
   "execution_count": 6,
   "id": "7a7d0c57-8d7a-40a3-bea6-2552fc5b416c",
   "metadata": {},
   "outputs": [],
   "source": [
    "def init_state():\n",
    "    particles.set_offsets([x_n, y_n])\n",
    "    return particles\n",
    "\n",
    "def dynamics(step_i):\n",
    "\n",
    "    global x_n, y_n, vx_n, vy_n, x_n1, y_n1, Force_x_n1, Force_y_n1\n",
    "    \n",
    "    particles.set_data(x_n1, y_n1)\n",
    "    \n",
    "    Force_x_n1, Force_y_n1 = compute_force(x_n1, y_n1)\n",
    "    x_n2, y_n2, vx_n, vy_n = time_evolution() \n",
    "\n",
    "    total_kinetic_energy = 0.\n",
    "    \n",
    "    for i in range(0, N):\n",
    "        total_kinetic_energy += 0.50*(vx_n[i]*vx_n[i] + vy_n[i]*vy_n[i]) \n",
    "    \n",
    "    x_n = x_n1\n",
    "    x_n1 = x_n2\n",
    "    \n",
    "    y_n = y_n1\n",
    "    y_n1 = y_n2\n",
    "    \n",
    "    x_n, y_n, x_n1, y_n1 = impose_boundary_condition(x_n, y_n, x_n1, y_n1)\n",
    "    \n",
    "    return particles, total_kinetic_energy"
   ]
  },
  {
   "cell_type": "code",
   "execution_count": 7,
   "id": "122adcf1-83e3-48fb-8a2f-75d13a8cbf12",
   "metadata": {},
   "outputs": [],
   "source": [
    "N, x_n, y_n, vx_n, vy_n, x_n1, y_n1 = generate_initial_conditions(L, rho, v_0)\n",
    "\n",
    "fig = plt.figure()\n",
    "ax = plt.axes(xlim = (0, L), ylim = (0, L))\n",
    "particles, = ax.plot([], [], 'bo')\n",
    "\n",
    "metadata = dict(title = 'Molecular Dynamics', artist = 'WCC Lima')\n",
    "writer = FFMpegWriter(fps = 60, metadata = metadata)\n",
    "\n",
    "particles.set_data(x_n, y_n)\n",
    "#for i in range(0, N):\n",
    "#    vel_vecs = plt.arrow(x_n[i],y_n[i],vx_n[i],vy_n[i],length_includes_head=True,head_width=0.1,color='black')\n",
    "\n",
    "TKE = np.array([])    \n",
    "\n",
    "with writer.saving(fig, 'molecular_dynamics.mp4', 200):\n",
    "    for time_step in range (0, N_time_steps):\n",
    "        #vel_vecs.remove()\n",
    "        particles, e = dynamics(time_step)\n",
    "        TKE = np.append(TKE, np.array([e]))\n",
    "        #for i in range(0, N):\n",
    "        #    vel_vecs = plt.arrow(x_n[i],y_n[i],vx_n[i],vy_n[i],length_includes_head=True,head_width=0.1,color='black')\n",
    "        writer.grab_frame()\n",
    "\n",
    "plt.close()"
   ]
  },
  {
   "cell_type": "code",
   "execution_count": 8,
   "id": "6bf347b9-93dd-4dc5-8c08-1271e278a0b6",
   "metadata": {
    "tags": []
   },
   "outputs": [
    {
     "data": {
      "text/plain": [
       "[<matplotlib.lines.Line2D at 0x1a6e0a84ad0>]"
      ]
     },
     "execution_count": 8,
     "metadata": {},
     "output_type": "execute_result"
    },
    {
     "data": {
      "image/png": "[encoded data removed]",
      "text/plain": [
       "<Figure size 640x480 with 1 Axes>"
      ]
     },
     "metadata": {},
     "output_type": "display_data"
    }
   ],
   "source": [
    "plt.plot(np.linspace(0,N_time_steps, N_time_steps), TKE)"
   ]
  },
  {
   "cell_type": "code",
   "execution_count": null,
   "id": "ccec7dce-a576-4453-9ef8-d3592ac214d6",
   "metadata": {},
   "outputs": [],
   "source": [
    "%matplotlib ipympl"
   ]
  },
  {
   "cell_type": "code",
   "execution_count": null,
   "id": "d0d6369d-ba3e-450c-b000-179d5c2ff929",
   "metadata": {},
   "outputs": [],
   "source": [
    "\n",
    "# First set up the figure, the axis, and the plot element we want to animate\n",
    "fig = plt.figure()\n",
    "ax = plt.axes(xlim=(0, 2), ylim=(-2, 2))\n",
    "line, = ax.plot([], [], lw=2)\n",
    "\n",
    "# initialization function: plot the background of each frame\n",
    "def init():\n",
    "    line.set_data([], [])\n",
    "    return line,\n",
    "\n",
    "\n",
    "# First set up the figure, the axis, and the plot element we want to animate\n",
    "fig = plt.figure()\n",
    "ax = plt.axes(xlim=(0, 2), ylim=(-2, 2))\n",
    "line, = ax.plot([], [], lw=2)\n",
    "\n",
    "# initialization function: plot the background of each frame\n",
    "def init():\n",
    "    line.set_data([], [])\n",
    "    return line,\n",
    "\n",
    "# animation function.  This is called sequentially\n",
    "def animate(i):\n",
    "    x = np.linspace(0, 2, 1000)\n",
    "    y = np.sin(2 * np.pi * (x - 0.01 * i))\n",
    "    line.set_data(x, y)\n",
    "    return line,\n",
    "\n",
    "# call the animator.  blit=True means only re-draw the parts that have changed.\n",
    "anim = animation.FuncAnimation(fig, animate, init_func=init,\n",
    "                               frames=200, interval=20, blit=True)\n",
    "\n",
    "# save the animation as an mp4.  This requires ffmpeg or mencoder to be\n",
    "# installed.  The extra_args ensure that the x264 codec is used, so that\n",
    "# the video can be embedded in html5.  You may need to adjust this for\n",
    "# your system: for more information, see\n",
    "# http://matplotlib.sourceforge.net/api/animation_api.html\n",
    "anim.save('basic_animation.mp4', fps=30, extra_args=['-vcodec', 'libx264'])\n",
    "\n",
    "plt.show()\n",
    "\n",
    "plt.show()"
   ]
  },
  {
   "cell_type": "code",
   "execution_count": null,
   "id": "eeebe3a0-6e0f-4a04-9a95-8db2f804aa77",
   "metadata": {},
   "outputs": [],
   "source": [
    "%matplotlib inline\n",
    "\n",
    "plt.rcParams[\"animation.html\"] = \"jshtml\"\n",
    "\n",
    "fig, ax = plt.subplots()\n",
    "t = np.linspace(0, 3, 40)\n",
    "g = -9.81\n",
    "v0 = 12\n",
    "z = g * t**2 / 2 + v0 * t\n",
    "\n",
    "v02 = 5\n",
    "z2 = g * t**2 / 2 + v02 * t\n",
    "\n",
    "scat = ax.scatter(t[0], z[0], c=\"b\", s=5, label=f'v0 = {v0} m/s')\n",
    "line2 = ax.plot(t[0], z2[0], label=f'v0 = {v02} m/s')[0]\n",
    "ax.set(xlim=[0, 3], ylim=[-4, 10], xlabel='Time [s]', ylabel='Z [m]')\n",
    "ax.legend()\n",
    "\n",
    "\n",
    "def update(frame):\n",
    "    # for each frame, update the data stored on each artist.\n",
    "    x = t[:frame]\n",
    "    y = z[:frame]\n",
    "    # update the scatter plot:\n",
    "    data = np.stack([x, y]).T\n",
    "    scat.set_offsets(data)\n",
    "    # update the line plot:\n",
    "    line2.set_xdata(t[:frame])\n",
    "    line2.set_ydata(z2[:frame])\n",
    "    return (scat, line2)\n",
    "\n",
    "ani = animation.FuncAnimation(fig=fig, func=update, frames=40, interval=30)\n",
    "plt.close()\n",
    "ani"
   ]
  },
  {
   "cell_type": "code",
   "execution_count": null,
   "id": "ab425590-872d-42f8-a77b-7f8390ed9d60",
   "metadata": {},
   "outputs": [],
   "source": []
  }
 ],
 "metadata": {
  "kernelspec": {
   "display_name": "Python 3 (ipykernel)",
   "language": "python",
   "name": "python3"
  },
  "language_info": {
   "codemirror_mode": {
    "name": "ipython",
    "version": 3
   },
   "file_extension": ".py",
   "mimetype": "text/x-python",
   "name": "python",
   "nbconvert_exporter": "python",
   "pygments_lexer": "ipython3",
   "version": "3.11.3"
  }
 },
 "nbformat": 4,
 "nbformat_minor": 5
}
