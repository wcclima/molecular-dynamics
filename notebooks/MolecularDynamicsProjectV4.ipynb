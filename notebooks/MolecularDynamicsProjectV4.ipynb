{
 "cells": [
  {
   "cell_type": "markdown",
   "id": "da9df866-7ce7-4563-96bf-806baab8969b",
   "metadata": {},
   "source": [
    "# **Molecular Dynamics**"
   ]
  },
  {
   "cell_type": "code",
   "execution_count": 1,
   "id": "79288f87-b646-4d34-8be2-f222d1dbc3db",
   "metadata": {
    "tags": []
   },
   "outputs": [],
   "source": [
    "# Python libraries and functions used in this project\n",
    "\n",
    "import math\n",
    "import random as rdm\n",
    "import numpy as np\n",
    "from numpy import random\n",
    "%matplotlib inline\n",
    "\n",
    "import matplotlib.pyplot as plt\n",
    "import seaborn as sns\n",
    "\n",
    "from matplotlib import animation\n",
    "from matplotlib.animation import FuncAnimation\n",
    "from matplotlib.animation import FFMpegWriter\n",
    "from IPython.display import HTML"
   ]
  },
  {
   "cell_type": "markdown",
   "id": "1148427f-97e4-4285-80d4-5cb1d421976a",
   "metadata": {},
   "source": [
    "## 1 - The model"
   ]
  },
  {
   "cell_type": "markdown",
   "id": "b09e2200-7530-4904-948e-053b9e25c7aa",
   "metadata": {
    "tags": []
   },
   "source": [
    "### 1.1 - Interaction potential"
   ]
  },
  {
   "cell_type": "markdown",
   "id": "5e4442f4-99ed-4ea5-9b21-3d143900ce2a",
   "metadata": {},
   "source": [
    "Here we will consider a set of $N$ *classical* particles of mass $m$ that interact pair-wise via the Lennard-Jones potential and moving according Newton's laws in two dimensions. The Lennard-Jones potential is given by \n",
    "\n",
    "$$\n",
    "V(r_{ij}) = 4\\epsilon\\left[\\left(\\frac{\\sigma}{r_{ij}}\\right)^{12} - \\left(\\frac{\\sigma}{r_{ij}}\\right)^6\\right],\n",
    "$$\n",
    "\n",
    "where $r_{ij} = r_{ji}$ is the Euclidean distance between the particles $i$ and $j$, $\\epsilon$ is the strength of the potential and $\\sigma$ is a length scale. "
   ]
  },
  {
   "cell_type": "code",
   "execution_count": 2,
   "id": "fe726d3c-4264-4bf7-aebd-c847e8de208d",
   "metadata": {
    "tags": []
   },
   "outputs": [
    {
     "data": {
      "image/png": "[encoded data removed]",
      "text/plain": [
       "<Figure size 640x480 with 1 Axes>"
      ]
     },
     "metadata": {},
     "output_type": "display_data"
    }
   ],
   "source": [
    "def v(x): \n",
    "    \"\"\"Function that returns the Lennard-Jones potential\"\"\"\n",
    "    return 4./(x**12) - 4./(x**6)\n",
    "\n",
    "x = np.linspace(0.9, 3, 100)\n",
    "\n",
    "plt.plot(x, v(x))\n",
    "plt.plot(x, 0*x, color = 'black', linestyle = 'dotted', linewidth = 1)\n",
    "plt.title(\"Lennard-Jones potential\")\n",
    "plt.xlabel('$r/\\\\sigma$')\n",
    "plt.ylabel('$V(r)/\\\\epsilon$')\n",
    "\n",
    "plt.show()"
   ]
  },
  {
   "cell_type": "markdown",
   "id": "a1682749-978a-4ac8-97c0-4b5a6d71e510",
   "metadata": {},
   "source": [
    "We see from the shape of the Lennard-Jones potential above that for long distances, i.e. for $r \\gtrsim \\sigma$, the potential is attractive, while for $r \\lesssim \\sigma$ the potential is strongly repulsive. The potential also has a minimum at $r_0 = 2^\\frac{1}{6}\\sigma$, where $V(r_0) = -\\epsilon$.\n",
    "\n",
    "This potential is a good model for innert gases, like ideal gases, that cannot for chemical bonds, i.e. cannot exchange electrons. The $\\left(\\frac{\\sigma}{r}\\right)^6$ tail models dipole interactions that are produce by the interaction of the molecules electronic clouds via the electorstatic force, that distorts the clouds, attractive producing electric dipole forces. The $\\left(\\frac{\\sigma}{r}\\right)^{12}$-term models the strong repulsion that appears out of the superpposition of the molecules electronic clouds, and it is produced by Pauli's exclusion principle. This principle express the empirical fact that two electrons cannot occupy the same state.  "
   ]
  },
  {
   "cell_type": "markdown",
   "id": "139f83ac-39a7-4584-ae20-01a96b96feab",
   "metadata": {},
   "source": [
    "### 1.2 Boundary conditions"
   ]
  },
  {
   "cell_type": "markdown",
   "id": "98208629-a496-42b5-b98e-6ef0a4577ecd",
   "metadata": {},
   "source": [
    "For simplicit, we will consider periodic boundary conditions. This means that in a lattice of size $L$, if the particle moves to a position $x = L + a$, the particle is the moved to the position $x' = x - L = a$, assuming here $a < L$. Hence, if the particles leaves the lattice on the right, it reappers on the left. And vice-versa. If the particle moves to the position $x = a < 0$, then it is moved to the position $x' = a + L < L$.\n",
    "\n",
    "This choice of boundary conditions have some advantages. In a real gas we typically have $N \\sim 10^{23}$ particles, which would be very costly to simmulate in a computer. For small set of particles, say $N \\sim 100$, assuming the the boundary of the lattice are hard walls as in a vessel might produce undesirable boundary effects that one would not find in real-life situations. The periodic boundary condition then allows us to simulate the situation in which we are observing a sample of the bulk of the gas, away from the vessel walls at a constant density "
   ]
  },
  {
   "cell_type": "markdown",
   "id": "53547089-8e8e-4a8c-bc1b-c0425ad1d58d",
   "metadata": {},
   "source": [
    "## 2 - Method"
   ]
  },
  {
   "cell_type": "markdown",
   "id": "b20d9485-7116-4128-b925-9330daaff2cf",
   "metadata": {
    "tags": []
   },
   "source": [
    "### 2.1 - Numerical method"
   ]
  },
  {
   "cell_type": "markdown",
   "id": "54740bd4-9ce5-4466-90ed-10d329b54d87",
   "metadata": {},
   "source": [
    "To numerically compute the position of the gas molecules, we will use the so-called **Verlet method**, see e.g. *Computational Physics* by N. Giordano. This method is suitable when the interaction potential does not depend on the velocity. Moreover it is a method easy to implement and has good numerical precision.\n",
    "\n",
    "Let us consider a function $y(t)$ satisfy the equation of motion $\\frac{d^2y(t)}{dt^2} = f[y(t)]$ and its Taylor expansion going forward and backward in time around the instant $t_i$ with a time step $\\Delta t$,\n",
    "\n",
    "$$\n",
    "y(t_i + \\Delta t) = y(t_i) + \\Delta t\\frac{dy(t_i)}{dt} + \\frac{1}{2}\\Delta t^2\\frac{d^2y(t_i)}{dt^2} + \\frac{1}{6}\\Delta t^3\\frac{d^3y(t_i)}{dt^3} + O(\\Delta t^4)\n",
    "$$\n",
    "and\n",
    "$$\n",
    "y(t_i - \\Delta t) = y(t_i) - \\Delta t\\frac{dy(t_i)}{dt} + \\frac{1}{2}\\Delta t^2\\frac{d^2y(t_i)}{dt^2} - \\frac{1}{6}\\Delta t^3\\frac{d^3y(t_i)}{dt^3} + O(\\Delta t^4).\n",
    "$$\n",
    "\n",
    "Denoting $y_i \\equiv y(t_i)$, $y_{i-1} \\equiv y(t_i - \\Delta t)$, $y_{i+1} \\equiv y(t_i + \\Delta t)$ and $f(y) = $, we have that\n",
    "\n",
    "$$\n",
    "y_{i + 1} = 2 y_i - y_{i - 1} + \\Delta t^2f(y_i) + O(\\Delta t^4),\n",
    "$$\n",
    "\n",
    "hence the error is of order $O(\\Delta t^4)$. The Verlet method is thus approximates $\\frac{d^2y}{dt^2}$ symmetrically using differences centered at the instant $t_i$ with high accurace. We can also obtain the velocity $v_i = \\frac{dy_i}{dt}$ from the Verlet method by taking\n",
    "\n",
    "$$\n",
    "y_{i+1} - y_{i-1} = 2\\Delta t v_i + O(\\Delta t^3)\\;\\;\\;\\; \\rightarrow \\;\\;\\;\\; v_i = \\frac{y_{i+1} - y_{i-1}}{2\\Delta t} + O(\\Delta t^3).\n",
    "$$"
   ]
  },
  {
   "cell_type": "markdown",
   "id": "138f6208-09ba-4402-a432-ec1408cc2676",
   "metadata": {
    "tags": []
   },
   "source": [
    "### 2.2 Computation of the force"
   ]
  },
  {
   "cell_type": "markdown",
   "id": "defbb194-c06a-4b13-a313-e3e628ca6188",
   "metadata": {},
   "source": [
    "The expression for the interaction force between two particles is\n",
    "\n",
    "$$\n",
    "\\vec{F}(\\vec{x} - \\vec{x}') = \\frac{24 \\epsilon}{\\sigma}\\left[2\\left(\\frac{\\sigma}{r}\\right)^{13} - \\left(\\frac{\\sigma}{r}\\right)^7\\right]\n",
    "\\frac{\\vec{x} - \\vec{x}'}{r} \n",
    "$$\n",
    "\n",
    "with $r = \\| \\vec{x} - \\vec{x}'\\|$. \n",
    "\n",
    "To simplify the numerical computation we will only consider the interaction between particles that are apart by up to a distance of $3\\sigma$. This introduces an error in the computation of force of the order $1/3^7 \\sim 10^{-4}$. Hence, if we choose $\\Delta t \\sim 10^{-3}$, the error in the equation for the position is still consistent with the error in the equation for the velocity.\n",
    "\n",
    "We also need to take into account the periodic boundary condition when computing the force so the reappearnce of a particle on the other side of the lattice is consistent with the dynamics. This is accomplished by computing the shortest distance between two particles and using it to compute the force between them. Hence, suppose two particles $i$ and $j$ at positions $x_i$ and $x_j$. If their coordinate distance is less than $L/2$, then we simply use $x_i - x_j$, otherwise we have to use the complement of the coordinate distance given by $x_i - x_j - \\textrm{sgn}(x_i - x_j)L$. "
   ]
  },
  {
   "cell_type": "markdown",
   "id": "58b84b6d-3329-4ea1-95e8-1c31ea2d6eab",
   "metadata": {
    "tags": []
   },
   "source": [
    "## 3 - Initial conditions"
   ]
  },
  {
   "cell_type": "code",
   "execution_count": 3,
   "id": "57c51964-a7b4-4071-a5d7-2651ca6622b4",
   "metadata": {
    "tags": []
   },
   "outputs": [],
   "source": [
    "def impose_boundary_condition(x_coord, y_coord):\n",
    "    \"\"\"\n",
    "    Updates the xy coordinates of the particles by imposing \n",
    "    periodic boundary conditions. \n",
    "    \n",
    "    Returns the updated x and y coordinates arrays.\n",
    "    \n",
    "    Keyword arguments:\n",
    "    \n",
    "    x_coord -- x coordinate, array\n",
    "    y_coord -- y coordinate, array\n",
    "    \"\"\"\n",
    "    \n",
    "    x_coord %= L\n",
    "    y_coord %= L\n",
    "    \n",
    "    \n",
    "#     for i, (x, y) in enumerate(zip(x_coord, y_coord)):\n",
    "        \n",
    "#         if x <= 0.:\n",
    "#             x = x + L\n",
    "#             x_coord[i] = x\n",
    "            \n",
    "#         if x >= L:\n",
    "#             x = x - L\n",
    "#             x_coord[i] = x\n",
    "        \n",
    "#         if y <= 0.:\n",
    "#             y = y + L\n",
    "#             y_coord[i] = y\n",
    "            \n",
    "#         if y >= L:\n",
    "#             y = y - L\n",
    "#             y_coord[i] = y\n",
    "            \n",
    "    return x_coord, y_coord\n",
    "    \n",
    "\n",
    "\n",
    "\n",
    "def generate_initial_conditions(grid_side = 20, gas_density = 0.25, initial_vel = 1, grid_origin = (0.,0.)):\n",
    "    \"\"\"\n",
    "    Generates a random initial condition for the position and velocity \n",
    "    of the particles.\n",
    "    \n",
    "    Returns the initial xy particles position and their xy velocity component.\n",
    "    \n",
    "    Keyword arguments:\n",
    "    \n",
    "    grid_side   -- side of lattice, float (default 20.) \n",
    "    Nparticles  -- particle number, integer (default 100)\n",
    "    initial_vel -- modulus of the initial velocity, float (default 1.)\n",
    "    \"\"\"\n",
    "\n",
    "    a = 1/(math.sqrt(gas_density)) # Size of the lattice cell\n",
    "    \n",
    "    x_0, y_0 = np.mgrid[a/2:grid_side + a/2:a, a/2:grid_side + a/2:a]\n",
    "    x_0 += grid_origin[0]\n",
    "    y_0 += grid_origin[1]\n",
    "    \n",
    "    Nparticles = len(x_0.flatten())\n",
    "    \n",
    "    x_0 = x_0.flatten() + a/2*(random.rand(Nparticles,) - 1/2)\n",
    "    y_0 = y_0.flatten() + a/2*(random.rand(Nparticles,) - 1/2)\n",
    "    \n",
    "    x_0, y_0 = impose_boundary_condition(x_0, y_0)\n",
    "        \n",
    "    rand_theta = 2*math.pi*random.rand(Nparticles,)\n",
    "    vx_0 = initial_vel*np.sin(rand_theta)\n",
    "    vy_0 = initial_vel*np.cos(rand_theta)\n",
    "    \n",
    "    # We compute the position of the particles at the next time step\n",
    "    x_1 = x_0 + vx_0*dt\n",
    "    y_1 = y_0 + vy_0*dt\n",
    "\n",
    "    # We impose the periodic boundary conditions in both the x and y directions\n",
    "    x_1, y_1 = impose_boundary_condition(x_1, y_1)\n",
    "            \n",
    "    return Nparticles, x_0, y_0, vx_0, vy_0, x_1, y_1"
   ]
  },
  {
   "cell_type": "code",
   "execution_count": 4,
   "id": "21fbea88-ac8a-41f3-a772-0315a53b4e46",
   "metadata": {
    "tags": []
   },
   "outputs": [
    {
     "name": "stdout",
     "output_type": "stream",
     "text": [
      "Number of particles in the system: 100\n"
     ]
    },
    {
     "data": {
      "image/png": "[encoded data removed]",
      "text/plain": [
       "<Figure size 640x480 with 1 Axes>"
      ]
     },
     "metadata": {},
     "output_type": "display_data"
    }
   ],
   "source": [
    "L = 40 # Side of bi-dimensional volume\n",
    "rho = 0.25 #Number of particles\n",
    "v_0 = 5. # Modulus of the initial velocity\n",
    "dt = 1e-3 #Time step\n",
    "N_time_steps = 5000 #Number of time steps\n",
    "\n",
    "N, x_0, y_0, vx_0, vy_0, x_1, y_1 = generate_initial_conditions(20, rho, v_0, (10.,10.))\n",
    "\n",
    "plt.axis([0, L, 0, L])\n",
    "\n",
    "print('Number of particles in the system:', N)\n",
    "\n",
    "plt.scatter(x_0,y_0)\n",
    "for i in range(0, N):\n",
    "        plt.arrow(x_0[i],y_0[i],vx_0[i]/5,vy_0[i]/5,length_includes_head=True,head_width=0.1,color='black') #We halve the velocity so it looks nicer in the picture\n",
    "\n",
    "plt.title('Initial position and velocity of the molecules in the gas')\n",
    "plt.xlabel(\"$x$\")\n",
    "plt.ylabel(\"$y$\")\n",
    "\n",
    "plt.show()"
   ]
  },
  {
   "cell_type": "markdown",
   "id": "bd744003-b7b5-45c2-9a34-9dbe96f88487",
   "metadata": {},
   "source": [
    "## 4 - Dynamics"
   ]
  },
  {
   "cell_type": "code",
   "execution_count": 5,
   "id": "7d967a79-b2f8-488c-a1d0-0f966b56e5df",
   "metadata": {},
   "outputs": [],
   "source": [
    "def copy_sgn_funct(x, y):\n",
    "    \"\"\"\n",
    "    Returns the absolute value of x times the \n",
    "    sign of y.\n",
    "    \n",
    "    Keyword arguments:\n",
    "    \n",
    "    x  -- float or int \n",
    "    y  -- float or int\n",
    "    \"\"\"\n",
    "    if y > 0:\n",
    "        return abs(x)\n",
    "    else:\n",
    "        return -abs(x)\n",
    "\n",
    "\n",
    "def shortest_distance_squared(x_coord_distance, y_coord_distance):\n",
    "    \"\"\"\n",
    "    Computes the shortest Euclidean distance between\n",
    "    two particles using periodic boundary conditions.\n",
    "\n",
    "    Returns the square of the Euclidean distance.\n",
    "    \n",
    "    Keyword arguments:\n",
    "    \n",
    "    x_coord_distance  -- float, coordinate distance in the x direction \n",
    "    y_coord_distance  -- float, coordinate distance in the y direction\n",
    "    \"\"\"\n",
    "    \n",
    "    if (math.fabs(x_coord_distance) > 0.5*L):\n",
    "        x_coord_distance = x_coord_distance - math.copysign(L, x_coord_distance)\n",
    "    \n",
    "    if (math.fabs(y_coord_distance) > 0.5*L):\n",
    "        y_coord_distance = y_coord_distance - math.copysign(L, y_coord_distance)\n",
    "        \n",
    "    distance_squared = x_coord_distance*x_coord_distance + y_coord_distance*y_coord_distance\n",
    "    \n",
    "    return distance_squared\n",
    "\n",
    "\n",
    "\n",
    "def compute_force(x_coord, y_coord):\n",
    "    \"\"\"\n",
    "    Computes the forces between any pair particles using the Lennard-Jonnes potential\n",
    "    and the shortest distance as defined by periodic boundary conditions in \n",
    "    the function 'shorted_distance'.\n",
    "    \n",
    "    Returns the x and y components of the force between the particles.\n",
    "    \n",
    "    Keyword arguments:\n",
    "    \n",
    "    x_coord  -- x coordinate \n",
    "    y_coord  -- y coordinate\n",
    "    \"\"\"\n",
    "    \n",
    "    N = len(x_coord)\n",
    "    \n",
    "    force_x = np.zeros(N,)\n",
    "    force_y = np.zeros(N,)\n",
    "\n",
    "    for i in range(0, N - 1):\n",
    "        for j in range(i + 1, N):\n",
    "            dx = x_coord[i] - x_coord[j]\n",
    "            dy = y_coord[i] - y_coord[j]\n",
    "                \n",
    "            r_squared = shortest_distance_squared(dx,dy)\n",
    "                \n",
    "            if (r_squared < 9.):\n",
    "                if (r_squared < 1e-3): #avoids 0 denominator\n",
    "                    r_squared = 1e-3\n",
    "\n",
    "                r_squared_inverse = 1./r_squared\n",
    "                f = 24.*(2.*r_squared_inverse**7 - r_squared_inverse**4)\n",
    "            else:\n",
    "                f = 0.\n",
    "                                  \n",
    "            force_x[i] = f*dx + force_x[i]\n",
    "            force_x[j] = -f*dx + force_x[j]\n",
    "                \n",
    "            force_y[i] = f*dy + force_y[i] \n",
    "            force_y[j] = -f*dy + force_y[j]\n",
    "            \n",
    "    return force_x, force_y\n",
    "\n",
    "\n",
    "def time_evolution():\n",
    "    \"\"\"Document this function\"\"\"\n",
    "    \n",
    "    x_n2 = np.round(2.*x_n1 - x_n + force_x_n1*dt*dt, 11)\n",
    "    y_n2 = np.round(2.*y_n1 - y_n + force_y_n1*dt*dt, 11)\n",
    "    \n",
    "    vx_n = np.round((x_n2 - x_n)/(2.*dt), 8)\n",
    "    vy_n = np.round((y_n2 - y_n)/(2.*dt), 8)\n",
    "    \n",
    "    return x_n2, y_n2, vx_n, vy_n\n"
   ]
  },
  {
   "cell_type": "code",
   "execution_count": 6,
   "id": "7a7d0c57-8d7a-40a3-bea6-2552fc5b416c",
   "metadata": {},
   "outputs": [],
   "source": [
    "def init_state():\n",
    "    particles.set_offsets([x_n, y_n])\n",
    "    return particles\n",
    "\n",
    "def dynamics(step_i):\n",
    "\n",
    "    global x_n, y_n, vx_n, vy_n, x_n1, y_n1, force_x_n1, force_y_n1\n",
    "    \n",
    "    particles.set_data(x_n1, y_n1)\n",
    "    \n",
    "\n",
    "    # force_x_n1 = np.zeros(N,) \n",
    "    # force_y_n1 = np.zeros(N,)\n",
    "    force_x_n1, force_y_n1 = compute_force(x_n1, y_n1)\n",
    "    x_n2, y_n2, vx_n, vy_n = time_evolution()\n",
    "    x_n2, y_n2 = impose_boundary_condition(x_n2, y_n2)\n",
    "\n",
    "    total_kinetic_energy = 0.\n",
    "    \n",
    "    for i in range(0, N):\n",
    "        total_kinetic_energy += 0.50*(vx_n[i]*vx_n[i] + vy_n[i]*vy_n[i]) \n",
    "    \n",
    "    x_n = x_n1\n",
    "    x_n1 = x_n2\n",
    "    \n",
    "    y_n = y_n1\n",
    "    y_n1 = y_n2\n",
    "    \n",
    "#     x_n, y_n = impose_boundary_condition(x_n, y_n)\n",
    "#     x_n1, y_n1 = impose_boundary_condition(x_n1, y_n1)\n",
    "    \n",
    "    return particles, total_kinetic_energy"
   ]
  },
  {
   "cell_type": "code",
   "execution_count": 7,
   "id": "122adcf1-83e3-48fb-8a2f-75d13a8cbf12",
   "metadata": {},
   "outputs": [],
   "source": [
    "N, x_n, y_n, vx_n, vy_n, x_n1, y_n1 = generate_initial_conditions(20, rho, v_0, grid_origin = (10., 10.))\n",
    "\n",
    "fig = plt.figure()\n",
    "ax = plt.axes(xlim = (0, L), ylim = (0, L))\n",
    "particles, = ax.plot([], [], 'bo', markersize=2)\n",
    "\n",
    "metadata = dict(title = 'Molecular Dynamics', artist = 'WCC Lima')\n",
    "writer = FFMpegWriter(fps = 80, metadata = metadata)\n",
    "\n",
    "particles.set_data(x_n, y_n)\n",
    "#for i in range(0, N):\n",
    "#    vel_vecs = plt.arrow(x_n[i],y_n[i],vx_n[i],vy_n[i],length_includes_head=True,head_width=0.1,color='black')\n",
    "\n",
    "TKE = np.array([])    \n",
    "\n",
    "with writer.saving(fig, 'molecular_dynamics.mp4', 200):\n",
    "    for time_step in range (0, N_time_steps):\n",
    "        #vel_vecs.remove()\n",
    "        particles, e = dynamics(time_step)\n",
    "        TKE = np.append(TKE, np.array([e]))\n",
    "        #for i in range(0, N):\n",
    "        #    vel_vecs = plt.arrow(x_n[i],y_n[i],vx_n[i],vy_n[i],length_includes_head=True,head_width=0.1,color='black')\n",
    "        writer.grab_frame()\n",
    "\n",
    "plt.close()"
   ]
  },
  {
   "cell_type": "code",
   "execution_count": 8,
   "id": "6bf347b9-93dd-4dc5-8c08-1271e278a0b6",
   "metadata": {
    "tags": []
   },
   "outputs": [
    {
     "data": {
      "image/png": "[encoded data removed]",
      "text/plain": [
       "<Figure size 640x480 with 1 Axes>"
      ]
     },
     "metadata": {},
     "output_type": "display_data"
    }
   ],
   "source": [
    "plt.plot(np.linspace(0,N_time_steps, N_time_steps), np.log(TKE))\n",
    "#plt.xlim([0,2000])\n",
    "plt.show()"
   ]
  },
  {
   "cell_type": "code",
   "execution_count": null,
   "id": "ab425590-872d-42f8-a77b-7f8390ed9d60",
   "metadata": {},
   "outputs": [],
   "source": []
  }
 ],
 "metadata": {
  "kernelspec": {
   "display_name": "Python 3 (ipykernel)",
   "language": "python",
   "name": "python3"
  },
  "language_info": {
   "codemirror_mode": {
    "name": "ipython",
    "version": 3
   },
   "file_extension": ".py",
   "mimetype": "text/x-python",
   "name": "python",
   "nbconvert_exporter": "python",
   "pygments_lexer": "ipython3",
   "version": "3.11.3"
  }
 },
 "nbformat": 4,
 "nbformat_minor": 5
}
